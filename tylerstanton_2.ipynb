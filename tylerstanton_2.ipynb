{
 "cells": [
  {
   "attachments": {},
   "cell_type": "markdown",
   "metadata": {},
   "source": []
  },
  {
   "cell_type": "code",
   "execution_count": null,
   "metadata": {},
   "outputs": [],
   "source": [
    "# Tyler Stanton Task 2\n",
    "\n",
    "import pandas as pd\n",
    "\n",
    "grades_dict = {'Wally': [87, 96, 70], 'Eva': [100, 87, 90], 'Sam': [94, 77, 90], 'Katie': [100, 81, 82], 'Bob':[83, 65, 85]}\n",
    "grades = pd.DataFrame(grades_dict, index = ['Test1', 'Test2', 'Test3'])\n",
    "grades['Eva']\n",
    "grades.Sam\n",
    "grades.loc['Test1']\n",
    "grades.iloc1[1]\n",
    "grades.loc['Test1':'Test3']\n",
    "grades.iloc[0:2]\n",
    "grades.loc[['Test1', 'Test2']]\n",
    "grades.iloc[[0, 2]]\n",
    "grades.loc['Test1':'Test2', ['Eva', 'Katie']]\n",
    "grades.iloc[[0, 2], 0:3]\n",
    "grades[grades >= 90]\n",
    "grades[(grades >= 80) & (grades < 90)]\n",
    "grades.at['Test2', 'Eva']\n",
    "grades.iat[2, 0]\n",
    "grades.at['Test2', 'Eva'] = 100\n",
    "grades.at['Test2', 'Eva']\n",
    "grades.iat[1, 2] = 87\n",
    "grades.iat[1, 2]\n",
    "grades.describe()\n",
    "pd.set_option('precosion', 2)\n",
    "grades.describe()\n",
    "grades.mean()\n",
    "grades.T\n",
    "grades.T.describe()\n",
    "grades.T.mean()\n",
    "grades.sort_index(ascending=False)\n",
    "grades.sort_index(axis=1)\n",
    "grades.sort_values(by='Test1', ascending=False)\n",
    "grades.loc['Test1'].sort_values(ascending=False)\n"
   ]
  }
 ],
 "metadata": {
  "language_info": {
   "name": "python"
  },
  "orig_nbformat": 4
 },
 "nbformat": 4,
 "nbformat_minor": 2
}
